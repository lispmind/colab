{
  "cells": [
    {
      "cell_type": "markdown",
      "metadata": {
        "id": "w4eNgyrq6Kcd"
      },
      "source": [
        "Demo usage of notebook\n",
        "\n",
        "# Init"
      ]
    },
    {
      "cell_type": "code",
      "execution_count": null,
      "metadata": {
        "id": "8543mrKc6Kcf"
      },
      "outputs": [],
      "source": [
        "# fix numpy in colab\n",
        "import numpy\n",
        "from IPython.display import clear_output\n",
        "\n",
        "# fix triton in colab\n",
        "!export LC_ALL=\"en_US.UTF-8\"\n",
        "!export LD_LIBRARY_PATH=\"/usr/lib64-nvidia\"\n",
        "!export LIBRARY_PATH=\"/usr/local/cuda/lib64/stubs\"\n",
        "!ldconfig /usr/lib64-nvidia\n",
        "\n",
        "clear_output()"
      ]
    },
    {
      "cell_type": "markdown",
      "metadata": {
        "id": "o4_AzBwt6Kcg"
      },
      "source": [
        "# Running Code"
      ]
    },
    {
      "cell_type": "code",
      "execution_count": null,
      "metadata": {
        "id": "4imJdq9z6Kcg"
      },
      "outputs": [],
      "source": [
        "\n",
        "while True:\n",
        "    print(\"User: \", end=\"\")\n",
        "    user_input = input()\n",
        "    print(\"\\n\")\n",
        "    print(user_input)"
      ]
    }
  ],
  "metadata": {
    "kernelspec": {
      "display_name": "Python 3",
      "language": "python",
      "name": "python3"
    },
    "language_info": {
      "name": "python",
      "version": "3.11.3"
    },
    "colab": {
      "provenance": [],
      "gpuType": "T4"
    }
  },
  "nbformat": 4,
  "nbformat_minor": 0
}